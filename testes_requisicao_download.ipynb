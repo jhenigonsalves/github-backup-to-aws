{
 "cells": [
  {
   "cell_type": "code",
   "execution_count": 1,
   "id": "e518bea9-e947-40cd-8453-cca3bc4dc63c",
   "metadata": {},
   "outputs": [],
   "source": [
    "import requests\n",
    "from dotenv import dotenv_values"
   ]
  },
  {
   "cell_type": "code",
   "execution_count": 2,
   "id": "aae3aabd-1620-4725-b40d-d7e6054dae2d",
   "metadata": {},
   "outputs": [],
   "source": [
    "secrets = dotenv_values(\".env\")\n",
    "access_token = secrets['github_token_7']\n",
    "access_token_30 = secrets['github_token_30']\n"
   ]
  },
  {
   "cell_type": "markdown",
   "id": "aa02b551-df9b-4597-97c2-1e054b31b018",
   "metadata": {},
   "source": [
    "### Download 1 repo"
   ]
  },
  {
   "cell_type": "code",
   "execution_count": 3,
   "id": "15c67bcb-aee1-4053-a588-25e8dc328484",
   "metadata": {},
   "outputs": [
    {
     "name": "stdout",
     "output_type": "stream",
     "text": [
      "url: https://api.github.com/repos/jhenigonsalves/airflow_tutorials/zipball/\n",
      "size: 7755\n",
      "b'PK\\x03\\x04\\n\\x00\\x00\\x00\\x00\\x00'\n"
     ]
    },
    {
     "data": {
      "text/plain": [
       "7755"
      ]
     },
     "execution_count": 3,
     "metadata": {},
     "output_type": "execute_result"
    }
   ],
   "source": [
    "headers = {\n",
    "    \"Authorization\" : f'{access_token}',\n",
    "    \"Accept\": 'application/vnd.github.v3+json'\n",
    "}\n",
    "\n",
    "user_name = 'jhenigonsalves'\n",
    "repo_name = 'airflow_tutorials'\n",
    "REF  = ''      # master/main branch \n",
    "EXT  = 'zip'\n",
    "#EXT  = 'tar'  # it also works\n",
    "\n",
    "url = f'https://api.github.com/repos/{user_name}/{repo_name}/{EXT}ball/{REF}'\n",
    "print('url:', url)\n",
    "\n",
    "r = requests.get(url, headers=headers)\n",
    "\n",
    "if r.status_code == 200:\n",
    "    print('size:', len(r.content))\n",
    "    with open(f'repos/{repo_name}.{EXT}', 'wb') as fh:\n",
    "        fh.write(r.content)\n",
    "    print(r.content[:10])  # display only some part\n",
    "else:\n",
    "    print(r.text)  \n",
    "\n",
    "# 2. download the data behind the URL\n",
    "file = requests.get(r.url)\n",
    "# 3. Open the response into a new file called instagram.ico\n",
    "open(f\"repos/{repo_name}.zip\", \"wb\").write(file.content)\n"
   ]
  },
  {
   "cell_type": "markdown",
   "id": "52b3b1fd-92a4-4d39-b59f-4da11df23446",
   "metadata": {},
   "source": [
    "## testing for private repos"
   ]
  },
  {
   "cell_type": "code",
   "execution_count": 4,
   "id": "fb106057-7803-4fc1-bf1d-f68117859c72",
   "metadata": {},
   "outputs": [
    {
     "name": "stdout",
     "output_type": "stream",
     "text": [
      "url: https://api.github.com/repos/jhenigonsalves/desafio_boti/zipball/\n",
      "size: 1716468\n",
      "b'PK\\x03\\x04\\n\\x00\\x00\\x00\\x00\\x00'\n"
     ]
    },
    {
     "data": {
      "text/plain": [
       "1716468"
      ]
     },
     "execution_count": 4,
     "metadata": {},
     "output_type": "execute_result"
    }
   ],
   "source": [
    "\n",
    "headers = {\n",
    "    \"Authorization\" : f'Bearer {access_token_30}',\n",
    "    \"Accept\": 'application/vnd.github.v3+json'\n",
    "}\n",
    "\n",
    "user_name = 'jhenigonsalves'\n",
    "repo_name = 'desafio_boti'\n",
    "REF  = ''      # master/main branch \n",
    "EXT  = 'zip'\n",
    "#EXT  = 'tar'  # it also works\n",
    "\n",
    "url = f'https://api.github.com/repos/{user_name}/{repo_name}/{EXT}ball/{REF}'\n",
    "print('url:', url)\n",
    "\n",
    "r = requests.get(url, headers=headers)\n",
    "\n",
    "if r.status_code == 200:\n",
    "    print('size:', len(r.content))\n",
    "    with open(f'repos/{repo_name}.{EXT}', 'wb') as fh:\n",
    "        fh.write(r.content)\n",
    "    print(r.content[:10])  # display only some part\n",
    "else:\n",
    "    print(r.text)  \n",
    "\n",
    "# 2. download the data behind the URL\n",
    "file = requests.get(r.url)\n",
    "# 3. Open the response into a new file called instagram.ico\n",
    "open(f\"repos/{repo_name}.zip\", \"wb\").write(file.content)\n"
   ]
  },
  {
   "cell_type": "markdown",
   "id": "9678ab59-f20c-4d7b-8f99-1bb514716b72",
   "metadata": {},
   "source": [
    "# Download metadados"
   ]
  },
  {
   "cell_type": "code",
   "execution_count": 5,
   "id": "cd816b7a-f9f8-420f-9249-bf469dd68e93",
   "metadata": {
    "scrolled": true
   },
   "outputs": [],
   "source": [
    "my_headers = {'Authorization' : f'Bearer {access_token}'}\n",
    "response = requests.get('https://api.github.com/user/repos', headers=my_headers)\n",
    "resp = response.json()\n",
    "metadados = [{'name':repo['name'],\n",
    "              'full_name':repo['full_name'],\n",
    "              'is_private':repo['private']} for repo in resp]\n",
    "\n",
    "with open('repos/metadados.txt', 'w') as f:\n",
    "    for line in metadados:\n",
    "        f.write(str(line)+'\\n')"
   ]
  },
  {
   "cell_type": "markdown",
   "id": "ffb3ca45-e422-4981-bd17-10f6fa2fd0bd",
   "metadata": {
    "jp-MarkdownHeadingCollapsed": true
   },
   "source": [
    "# Download todos os repo"
   ]
  },
  {
   "cell_type": "code",
   "execution_count": 6,
   "id": "02dfc2e2-b107-4fc3-b517-1f2d87d37ae7",
   "metadata": {},
   "outputs": [
    {
     "name": "stdout",
     "output_type": "stream",
     "text": [
      "jhenigonsalves/airflow_tutorials\n",
      "airflow_tutorials\n"
     ]
    }
   ],
   "source": [
    "full_names = [repo['full_name'] for repo in metadados]\n",
    "repos = [repo['name'] for repo in metadados]\n",
    "full = full_names[0]\n",
    "name=repos[0]\n",
    "print(full)\n",
    "print(name)\n",
    "url = f'https://api.github.com/repos/{user_name}/{name}/{EXT}ball/{REF}' # url uzada para quando o user_name eh unico\n",
    "url2 = f'https://api.github.com/repos/{full}/{EXT}ball/{REF}' # essa url pega os repositorios que possuem outros 'owners', desta forma o user_name eh pode ser so um colaborador"
   ]
  },
  {
   "cell_type": "code",
   "execution_count": 7,
   "id": "4348ecfa-ac30-4bca-a4e1-279d33cf19a5",
   "metadata": {},
   "outputs": [],
   "source": [
    "headers = {\n",
    "    \"Authorization\" : f'token {access_token}',\n",
    "    \"Accept\": 'application/vnd.github.v3+json'\n",
    "}\n",
    "\n",
    "REF  = ''      # master/main branch \n",
    "EXT  = 'zip'\n",
    "#EXT  = 'tar'  # it also works\n",
    "\n",
    "fullname = [repo['full_name'] for repo in metadados]\n",
    "#repos = [repo['name'] for repo in metadados]\n",
    "for owner_repo  in full_names:\n",
    "    repo_name = owner_repo.split('/')[-1]\n",
    "    url = f'https://api.github.com/repos/{owner_repo}/{EXT}ball/{REF}'\n",
    "    r = requests.get(url, headers=headers)\n",
    "    if r.status_code == 200:\n",
    "       # print('size:', len(r.content))\n",
    "        with open(f'repos/{repo_name}.{EXT}', 'wb') as fh:\n",
    "            fh.write(r.content)\n",
    "       # print(r.content[:10])  # display only some part\n",
    "    else:\n",
    "        print(repo_name)\n",
    "        print(url)        \n",
    "        print(r.text)\n"
   ]
  },
  {
   "cell_type": "markdown",
   "id": "fde40640-37ab-4328-9f8b-ad395541d7c5",
   "metadata": {},
   "source": [
    "# Criando as funcoes"
   ]
  },
  {
   "cell_type": "code",
   "execution_count": 8,
   "id": "6929bced-7909-4511-ae62-a4e1bcd4906d",
   "metadata": {},
   "outputs": [],
   "source": [
    "def get_metadados(token):\n",
    "    my_headers = {'Authorization' : f'Bearer {token}'}\n",
    "    response = requests.get('https://api.github.com/user/repos', headers=my_headers)\n",
    "    resp = response.json()\n",
    "    metadados = [{'name':repo['name'],\n",
    "                  'full_name':repo['full_name'],\n",
    "                  'is_private':repo['private']} for repo in resp]\n",
    "    with open('repos/metadados.txt', 'w') as f:\n",
    "        for line in metadados:\n",
    "            f.write(str(line)+'\\n')\n",
    "    return metadados "
   ]
  },
  {
   "cell_type": "code",
   "execution_count": 9,
   "id": "f6af57f4-da24-4226-9a86-b6558c74e211",
   "metadata": {
    "scrolled": true
   },
   "outputs": [],
   "source": [
    "metadados = get_metadados(access_token)"
   ]
  },
  {
   "cell_type": "code",
   "execution_count": 10,
   "id": "e049fddd-470e-4d12-9fa5-d799905ce647",
   "metadata": {},
   "outputs": [],
   "source": [
    "def download_repos(token, EXT='zip'):\n",
    "    metadados = get_metadados(access_token)\n",
    "    headers = {\n",
    "        \"Authorization\" : f'token {access_token}',\n",
    "        \"Accept\": 'application/vnd.github.v3+json'\n",
    "    }\n",
    "    \n",
    "    REF  = ''      # master/main branch \n",
    "    \n",
    "    #EXT  = 'tar'  # it also works\n",
    "    \n",
    "    fullname = [repo['full_name'] for repo in metadados]\n",
    "    #repos = [repo['name'] for repo in metadados]\n",
    "    for owner_repo  in full_names:\n",
    "        repo_name = owner_repo.split('/')[-1]\n",
    "        url = f'https://api.github.com/repos/{owner_repo}/{EXT}ball/{REF}'\n",
    "        r = requests.get(url, headers=headers)\n",
    "        if r.status_code == 200:\n",
    "           # print('size:', len(r.content))\n",
    "            with open(f'repos/{repo_name}.{EXT}', 'wb') as fh:\n",
    "                fh.write(r.content)\n",
    "           # print(r.content[:10])  # display only some part\n",
    "        else:\n",
    "            print(repo_name)\n",
    "            print(url)        \n",
    "            print(r.text)\n",
    "        "
   ]
  },
  {
   "cell_type": "code",
   "execution_count": 11,
   "id": "84a2193a-45c9-427c-8de7-adf185a9a217",
   "metadata": {},
   "outputs": [],
   "source": [
    "download_repos(access_token)"
   ]
  },
  {
   "cell_type": "code",
   "execution_count": null,
   "id": "b6fa7132-48a1-495f-be5c-400d4cdbdb9b",
   "metadata": {},
   "outputs": [],
   "source": []
  },
  {
   "cell_type": "code",
   "execution_count": null,
   "id": "b18b6928-128d-4deb-ac31-77812e62c152",
   "metadata": {},
   "outputs": [],
   "source": []
  }
 ],
 "metadata": {
  "kernelspec": {
   "display_name": "Python 3 (ipykernel)",
   "language": "python",
   "name": "python3"
  },
  "language_info": {
   "codemirror_mode": {
    "name": "ipython",
    "version": 3
   },
   "file_extension": ".py",
   "mimetype": "text/x-python",
   "name": "python",
   "nbconvert_exporter": "python",
   "pygments_lexer": "ipython3",
   "version": "3.8.10"
  }
 },
 "nbformat": 4,
 "nbformat_minor": 5
}
